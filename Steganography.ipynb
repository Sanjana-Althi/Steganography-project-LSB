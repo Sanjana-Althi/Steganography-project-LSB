{
  "nbformat": 4,
  "nbformat_minor": 0,
  "metadata": {
    "colab": {
      "provenance": []
    },
    "kernelspec": {
      "name": "python3",
      "display_name": "Python 3"
    },
    "language_info": {
      "name": "python"
    }
  },
  "cells": [
    {
      "cell_type": "code",
      "execution_count": 1,
      "metadata": {
        "id": "kJkhsdoIVkK1"
      },
      "outputs": [],
      "source": [
        "import numpy as np"
      ]
    },
    {
      "cell_type": "code",
      "source": [
        "#create ASCII mapping dictionaries\n",
        "d = {chr(i):i for i in range (256)} # char ti int (ASCII value)\n",
        "c = {i: chr(i) for i in range(256)} # int to char"
      ],
      "metadata": {
        "id": "u6kwNnfIWR0l"
      },
      "execution_count": 2,
      "outputs": []
    },
    {
      "cell_type": "code",
      "source": [
        "# Message and encryption key\n",
        "text = \"HELLO\"\n",
        "key = \"KEY\""
      ],
      "metadata": {
        "id": "-8f0IpDFXs_P"
      },
      "execution_count": 3,
      "outputs": []
    },
    {
      "cell_type": "code",
      "source": [
        "# Create a dummy 10x10 RGB image with random pixel values\n",
        "x = np.random.randint(0, 256, (10, 10, 3), dtype=np.uint8)"
      ],
      "metadata": {
        "id": "7cVlqNuuXxnF"
      },
      "execution_count": 4,
      "outputs": []
    },
    {
      "cell_type": "code",
      "source": [
        "x_enc = x.copy()"
      ],
      "metadata": {
        "id": "UJ5y8NasX5mO"
      },
      "execution_count": 5,
      "outputs": []
    },
    {
      "cell_type": "code",
      "source": [
        "n, m, z = 0, 0, 0 # pixel row, column, channel\n",
        "kl = 0          # index for key\n",
        "l = len(text)   # number of characters to encode"
      ],
      "metadata": {
        "id": "u6TlUSNCX_ov"
      },
      "execution_count": 6,
      "outputs": []
    },
    {
      "cell_type": "code",
      "source": [
        "# Encrypt and embed using LSB\n",
        "for i in range(l):\n",
        "    char_val = d[text[i]] ^ d[key[kl]]\n",
        "    for bit_pos in range(8):\n",
        "        bit = (char_val >> (7 - bit_pos)) & 1\n",
        "        original_val = x_enc[n, m, z]\n",
        "        x_enc[n, m, z] = (original_val & 0XFE) | bit\n",
        "        print(f\"Embedding bit {bit} of '{text[i]}' at ({n},{m},{z}) originale:{original_val} neue:{x_enc[n,m,z]}\")\n",
        "\n",
        "        z = (z + 1) % 3\n",
        "        if z == 0:\n",
        "            m = m + 1\n",
        "            if m == x_enc.shape[1]:\n",
        "                n = n + 1\n",
        "                m = 0\n",
        "\n",
        "    kl = (kl + 1) % len(key)"
      ],
      "metadata": {
        "colab": {
          "base_uri": "https://localhost:8080/"
        },
        "id": "JVhCdx2YYGLt",
        "outputId": "4352aba0-0cbe-4726-88df-d792429812b2"
      },
      "execution_count": 7,
      "outputs": [
        {
          "output_type": "stream",
          "name": "stdout",
          "text": [
            "Embedding bit 0 of 'H' at (0,0,0) originale:25 neue:24\n",
            "Embedding bit 0 of 'H' at (0,0,1) originale:124 neue:124\n",
            "Embedding bit 0 of 'H' at (0,0,2) originale:3 neue:2\n",
            "Embedding bit 0 of 'H' at (0,1,0) originale:234 neue:234\n",
            "Embedding bit 0 of 'H' at (0,1,1) originale:187 neue:186\n",
            "Embedding bit 0 of 'H' at (0,1,2) originale:220 neue:220\n",
            "Embedding bit 1 of 'H' at (0,2,0) originale:250 neue:251\n",
            "Embedding bit 1 of 'H' at (0,2,1) originale:227 neue:227\n",
            "Embedding bit 0 of 'E' at (0,2,2) originale:212 neue:212\n",
            "Embedding bit 0 of 'E' at (0,3,0) originale:255 neue:254\n",
            "Embedding bit 0 of 'E' at (0,3,1) originale:95 neue:94\n",
            "Embedding bit 0 of 'E' at (0,3,2) originale:125 neue:124\n",
            "Embedding bit 0 of 'E' at (0,4,0) originale:245 neue:244\n",
            "Embedding bit 0 of 'E' at (0,4,1) originale:184 neue:184\n",
            "Embedding bit 0 of 'E' at (0,4,2) originale:105 neue:104\n",
            "Embedding bit 0 of 'E' at (0,5,0) originale:128 neue:128\n",
            "Embedding bit 0 of 'L' at (0,5,1) originale:39 neue:38\n",
            "Embedding bit 0 of 'L' at (0,5,2) originale:57 neue:56\n",
            "Embedding bit 0 of 'L' at (0,6,0) originale:86 neue:86\n",
            "Embedding bit 1 of 'L' at (0,6,1) originale:111 neue:111\n",
            "Embedding bit 0 of 'L' at (0,6,2) originale:229 neue:228\n",
            "Embedding bit 1 of 'L' at (0,7,0) originale:245 neue:245\n",
            "Embedding bit 0 of 'L' at (0,7,1) originale:206 neue:206\n",
            "Embedding bit 1 of 'L' at (0,7,2) originale:114 neue:115\n",
            "Embedding bit 0 of 'L' at (0,8,0) originale:128 neue:128\n",
            "Embedding bit 0 of 'L' at (0,8,1) originale:27 neue:26\n",
            "Embedding bit 0 of 'L' at (0,8,2) originale:214 neue:214\n",
            "Embedding bit 0 of 'L' at (0,9,0) originale:20 neue:20\n",
            "Embedding bit 0 of 'L' at (0,9,1) originale:146 neue:146\n",
            "Embedding bit 1 of 'L' at (0,9,2) originale:52 neue:53\n",
            "Embedding bit 1 of 'L' at (1,0,0) originale:5 neue:5\n",
            "Embedding bit 1 of 'L' at (1,0,1) originale:160 neue:161\n",
            "Embedding bit 0 of 'O' at (1,0,2) originale:195 neue:194\n",
            "Embedding bit 0 of 'O' at (1,1,0) originale:66 neue:66\n",
            "Embedding bit 0 of 'O' at (1,1,1) originale:67 neue:66\n",
            "Embedding bit 0 of 'O' at (1,1,2) originale:181 neue:180\n",
            "Embedding bit 1 of 'O' at (1,2,0) originale:244 neue:245\n",
            "Embedding bit 0 of 'O' at (1,2,1) originale:187 neue:186\n",
            "Embedding bit 1 of 'O' at (1,2,2) originale:164 neue:165\n",
            "Embedding bit 0 of 'O' at (1,3,0) originale:64 neue:64\n"
          ]
        }
      ]
    },
    {
      "cell_type": "code",
      "source": [
        "# ============ DECRYPTION ============\n",
        "\n",
        "n, m, z = 0, 0, 0\n",
        "kl = 0\n",
        "decrypt = \"\"\n",
        "\n",
        "for i in range(l):  # 'l' is the length of the original text, from earlier\n",
        "    val = 0\n",
        "    for bit_pos in range(8):\n",
        "        bit = x_enc[n, m, z] & 1\n",
        "        val = (val << 1) | bit\n",
        "        print(f\"Reading bit {bit} from ({n},{m},{z})\")\n",
        "\n",
        "        z = (z + 1) % 3\n",
        "        if z == 0:\n",
        "            m = m + 1\n",
        "            if m == x_enc.shape[1]:\n",
        "                n = n + 1\n",
        "                m = 0\n",
        "\n",
        "    orig_char = c[val ^ d[key[kl]]]\n",
        "    decrypt += orig_char\n",
        "    print(f\"Decrypted byte: (val XOR d[key[kl]]) = {val ^ d[key[kl]]} -> '{orig_char}'\")\n",
        "    kl = (kl + 1) % len(key)\n",
        "\n",
        "print(f\"Decrypted text: '{decrypt}'\")\n",
        "\n",
        "# Reading bits from (0,0,0)"
      ],
      "metadata": {
        "colab": {
          "base_uri": "https://localhost:8080/"
        },
        "id": "EJabG6BxbiuH",
        "outputId": "62a55ad0-2d48-443d-bf82-e7a50b0588fa"
      },
      "execution_count": 8,
      "outputs": [
        {
          "output_type": "stream",
          "name": "stdout",
          "text": [
            "Reading bit 0 from (0,0,0)\n",
            "Reading bit 0 from (0,0,1)\n",
            "Reading bit 0 from (0,0,2)\n",
            "Reading bit 0 from (0,1,0)\n",
            "Reading bit 0 from (0,1,1)\n",
            "Reading bit 0 from (0,1,2)\n",
            "Reading bit 1 from (0,2,0)\n",
            "Reading bit 1 from (0,2,1)\n",
            "Decrypted byte: (val XOR d[key[kl]]) = 72 -> 'H'\n",
            "Reading bit 0 from (0,2,2)\n",
            "Reading bit 0 from (0,3,0)\n",
            "Reading bit 0 from (0,3,1)\n",
            "Reading bit 0 from (0,3,2)\n",
            "Reading bit 0 from (0,4,0)\n",
            "Reading bit 0 from (0,4,1)\n",
            "Reading bit 0 from (0,4,2)\n",
            "Reading bit 0 from (0,5,0)\n",
            "Decrypted byte: (val XOR d[key[kl]]) = 69 -> 'E'\n",
            "Reading bit 0 from (0,5,1)\n",
            "Reading bit 0 from (0,5,2)\n",
            "Reading bit 0 from (0,6,0)\n",
            "Reading bit 1 from (0,6,1)\n",
            "Reading bit 0 from (0,6,2)\n",
            "Reading bit 1 from (0,7,0)\n",
            "Reading bit 0 from (0,7,1)\n",
            "Reading bit 1 from (0,7,2)\n",
            "Decrypted byte: (val XOR d[key[kl]]) = 76 -> 'L'\n",
            "Reading bit 0 from (0,8,0)\n",
            "Reading bit 0 from (0,8,1)\n",
            "Reading bit 0 from (0,8,2)\n",
            "Reading bit 0 from (0,9,0)\n",
            "Reading bit 0 from (0,9,1)\n",
            "Reading bit 1 from (0,9,2)\n",
            "Reading bit 1 from (1,0,0)\n",
            "Reading bit 1 from (1,0,1)\n",
            "Decrypted byte: (val XOR d[key[kl]]) = 76 -> 'L'\n",
            "Reading bit 0 from (1,0,2)\n",
            "Reading bit 0 from (1,1,0)\n",
            "Reading bit 0 from (1,1,1)\n",
            "Reading bit 0 from (1,1,2)\n",
            "Reading bit 1 from (1,2,0)\n",
            "Reading bit 0 from (1,2,1)\n",
            "Reading bit 1 from (1,2,2)\n",
            "Reading bit 0 from (1,3,0)\n",
            "Decrypted byte: (val XOR d[key[kl]]) = 79 -> 'O'\n",
            "Decrypted text: 'HELLO'\n"
          ]
        }
      ]
    }
  ]
}